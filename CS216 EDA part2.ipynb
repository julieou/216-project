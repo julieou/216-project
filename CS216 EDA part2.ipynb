{
 "cells": [
  {
   "cell_type": "code",
   "execution_count": 1,
   "id": "3bf6a9eb",
   "metadata": {},
   "outputs": [],
   "source": [
    "import pandas as pd\n",
    "import numpy as np\n",
    "import seaborn as sns\n",
    "from sklearn.linear_model import LinearRegression\n",
    "from sklearn.metrics import mean_squared_error\n",
    "from sklearn.metrics import r2_score\n",
    "from sklearn.preprocessing import OneHotEncoder\n",
    "\n",
    "races = pd.read_csv('race.csv')\n",
    "runners = pd.read_csv('ultra_rankings.csv')\n",
    "\n",
    "#races record information for each individual races (location, id, elevation \n",
    "#etc. runners record each contestant (on high rankings) performance for each\n",
    "#of these races. The merge key for the two datasets is the race_year_id"
   ]
  },
  {
   "cell_type": "markdown",
   "id": "144bc601",
   "metadata": {},
   "source": [
    "Original repo here: \n",
    "https://github.com/rfordatascience/tidytuesday/tree/master/data/2021/2021-10-26"
   ]
  },
  {
   "cell_type": "code",
   "execution_count": 2,
   "id": "84182573",
   "metadata": {},
   "outputs": [
    {
     "name": "stdout",
     "output_type": "stream",
     "text": [
      "137803\n",
      "1207\n"
     ]
    }
   ],
   "source": [
    "#So we've got 137803 individual entries in race results and 1207 unique \n",
    "#races at hand.\n",
    "print(len(runners))\n",
    "print(len(races))"
   ]
  },
  {
   "cell_type": "code",
   "execution_count": 3,
   "id": "a450492d",
   "metadata": {},
   "outputs": [
    {
     "data": {
      "text/html": [
       "<div>\n",
       "<style scoped>\n",
       "    .dataframe tbody tr th:only-of-type {\n",
       "        vertical-align: middle;\n",
       "    }\n",
       "\n",
       "    .dataframe tbody tr th {\n",
       "        vertical-align: top;\n",
       "    }\n",
       "\n",
       "    .dataframe thead th {\n",
       "        text-align: right;\n",
       "    }\n",
       "</style>\n",
       "<table border=\"1\" class=\"dataframe\">\n",
       "  <thead>\n",
       "    <tr style=\"text-align: right;\">\n",
       "      <th></th>\n",
       "      <th>race_year_id</th>\n",
       "      <th>rank</th>\n",
       "      <th>runner</th>\n",
       "      <th>time</th>\n",
       "      <th>age</th>\n",
       "      <th>gender</th>\n",
       "      <th>nationality</th>\n",
       "      <th>time_in_seconds</th>\n",
       "      <th>event</th>\n",
       "      <th>race</th>\n",
       "      <th>city</th>\n",
       "      <th>country</th>\n",
       "      <th>date</th>\n",
       "      <th>start_time</th>\n",
       "      <th>participation</th>\n",
       "      <th>distance</th>\n",
       "      <th>elevation_gain</th>\n",
       "      <th>elevation_loss</th>\n",
       "      <th>aid_stations</th>\n",
       "      <th>participants</th>\n",
       "    </tr>\n",
       "  </thead>\n",
       "  <tbody>\n",
       "    <tr>\n",
       "      <th>0</th>\n",
       "      <td>68140</td>\n",
       "      <td>1.0</td>\n",
       "      <td>VERHEUL Jasper</td>\n",
       "      <td>26H 35M 25S</td>\n",
       "      <td>30</td>\n",
       "      <td>M</td>\n",
       "      <td>GBR</td>\n",
       "      <td>95725.0</td>\n",
       "      <td>Peak District Ultras</td>\n",
       "      <td>Millstone 100</td>\n",
       "      <td>Castleton</td>\n",
       "      <td>United Kingdom</td>\n",
       "      <td>2021-09-03</td>\n",
       "      <td>19:00:00</td>\n",
       "      <td>solo</td>\n",
       "      <td>166.9</td>\n",
       "      <td>4520</td>\n",
       "      <td>-4520</td>\n",
       "      <td>10</td>\n",
       "      <td>150</td>\n",
       "    </tr>\n",
       "    <tr>\n",
       "      <th>1</th>\n",
       "      <td>68140</td>\n",
       "      <td>2.0</td>\n",
       "      <td>MOULDING JON</td>\n",
       "      <td>27H 0M 29S</td>\n",
       "      <td>43</td>\n",
       "      <td>M</td>\n",
       "      <td>GBR</td>\n",
       "      <td>97229.0</td>\n",
       "      <td>Peak District Ultras</td>\n",
       "      <td>Millstone 100</td>\n",
       "      <td>Castleton</td>\n",
       "      <td>United Kingdom</td>\n",
       "      <td>2021-09-03</td>\n",
       "      <td>19:00:00</td>\n",
       "      <td>solo</td>\n",
       "      <td>166.9</td>\n",
       "      <td>4520</td>\n",
       "      <td>-4520</td>\n",
       "      <td>10</td>\n",
       "      <td>150</td>\n",
       "    </tr>\n",
       "    <tr>\n",
       "      <th>2</th>\n",
       "      <td>68140</td>\n",
       "      <td>3.0</td>\n",
       "      <td>RICHARDSON Phill</td>\n",
       "      <td>28H 49M 7S</td>\n",
       "      <td>38</td>\n",
       "      <td>M</td>\n",
       "      <td>GBR</td>\n",
       "      <td>103747.0</td>\n",
       "      <td>Peak District Ultras</td>\n",
       "      <td>Millstone 100</td>\n",
       "      <td>Castleton</td>\n",
       "      <td>United Kingdom</td>\n",
       "      <td>2021-09-03</td>\n",
       "      <td>19:00:00</td>\n",
       "      <td>solo</td>\n",
       "      <td>166.9</td>\n",
       "      <td>4520</td>\n",
       "      <td>-4520</td>\n",
       "      <td>10</td>\n",
       "      <td>150</td>\n",
       "    </tr>\n",
       "    <tr>\n",
       "      <th>3</th>\n",
       "      <td>68140</td>\n",
       "      <td>4.0</td>\n",
       "      <td>DYSON Fiona</td>\n",
       "      <td>30H 53M 37S</td>\n",
       "      <td>55</td>\n",
       "      <td>W</td>\n",
       "      <td>GBR</td>\n",
       "      <td>111217.0</td>\n",
       "      <td>Peak District Ultras</td>\n",
       "      <td>Millstone 100</td>\n",
       "      <td>Castleton</td>\n",
       "      <td>United Kingdom</td>\n",
       "      <td>2021-09-03</td>\n",
       "      <td>19:00:00</td>\n",
       "      <td>solo</td>\n",
       "      <td>166.9</td>\n",
       "      <td>4520</td>\n",
       "      <td>-4520</td>\n",
       "      <td>10</td>\n",
       "      <td>150</td>\n",
       "    </tr>\n",
       "    <tr>\n",
       "      <th>4</th>\n",
       "      <td>68140</td>\n",
       "      <td>5.0</td>\n",
       "      <td>FRONTERAS Karen</td>\n",
       "      <td>32H 46M 21S</td>\n",
       "      <td>48</td>\n",
       "      <td>W</td>\n",
       "      <td>GBR</td>\n",
       "      <td>117981.0</td>\n",
       "      <td>Peak District Ultras</td>\n",
       "      <td>Millstone 100</td>\n",
       "      <td>Castleton</td>\n",
       "      <td>United Kingdom</td>\n",
       "      <td>2021-09-03</td>\n",
       "      <td>19:00:00</td>\n",
       "      <td>solo</td>\n",
       "      <td>166.9</td>\n",
       "      <td>4520</td>\n",
       "      <td>-4520</td>\n",
       "      <td>10</td>\n",
       "      <td>150</td>\n",
       "    </tr>\n",
       "  </tbody>\n",
       "</table>\n",
       "</div>"
      ],
      "text/plain": [
       "   race_year_id  rank            runner         time  age gender nationality  \\\n",
       "0         68140   1.0    VERHEUL Jasper  26H 35M 25S   30      M         GBR   \n",
       "1         68140   2.0      MOULDING JON   27H 0M 29S   43      M         GBR   \n",
       "2         68140   3.0  RICHARDSON Phill   28H 49M 7S   38      M         GBR   \n",
       "3         68140   4.0       DYSON Fiona  30H 53M 37S   55      W         GBR   \n",
       "4         68140   5.0   FRONTERAS Karen  32H 46M 21S   48      W         GBR   \n",
       "\n",
       "   time_in_seconds                 event           race       city  \\\n",
       "0          95725.0  Peak District Ultras  Millstone 100  Castleton   \n",
       "1          97229.0  Peak District Ultras  Millstone 100  Castleton   \n",
       "2         103747.0  Peak District Ultras  Millstone 100  Castleton   \n",
       "3         111217.0  Peak District Ultras  Millstone 100  Castleton   \n",
       "4         117981.0  Peak District Ultras  Millstone 100  Castleton   \n",
       "\n",
       "          country        date start_time participation  distance  \\\n",
       "0  United Kingdom  2021-09-03   19:00:00          solo     166.9   \n",
       "1  United Kingdom  2021-09-03   19:00:00          solo     166.9   \n",
       "2  United Kingdom  2021-09-03   19:00:00          solo     166.9   \n",
       "3  United Kingdom  2021-09-03   19:00:00          solo     166.9   \n",
       "4  United Kingdom  2021-09-03   19:00:00          solo     166.9   \n",
       "\n",
       "   elevation_gain  elevation_loss  aid_stations  participants  \n",
       "0            4520           -4520            10           150  \n",
       "1            4520           -4520            10           150  \n",
       "2            4520           -4520            10           150  \n",
       "3            4520           -4520            10           150  \n",
       "4            4520           -4520            10           150  "
      ]
     },
     "execution_count": 3,
     "metadata": {},
     "output_type": "execute_result"
    }
   ],
   "source": [
    "#Merge the 2 datasets by race id\n",
    "merged = pd.merge(runners,races, on='race_year_id')\n",
    "merged.head()\n",
    "\n",
    "#The race info is redundant because there are multiple contestants for\n",
    "#a single race... but we could work with that for now"
   ]
  },
  {
   "cell_type": "code",
   "execution_count": 4,
   "id": "f5a3ddff",
   "metadata": {},
   "outputs": [
    {
     "data": {
      "text/html": [
       "<div>\n",
       "<style scoped>\n",
       "    .dataframe tbody tr th:only-of-type {\n",
       "        vertical-align: middle;\n",
       "    }\n",
       "\n",
       "    .dataframe tbody tr th {\n",
       "        vertical-align: top;\n",
       "    }\n",
       "\n",
       "    .dataframe thead th {\n",
       "        text-align: right;\n",
       "    }\n",
       "</style>\n",
       "<table border=\"1\" class=\"dataframe\">\n",
       "  <thead>\n",
       "    <tr style=\"text-align: right;\">\n",
       "      <th></th>\n",
       "      <th>race_year_id</th>\n",
       "      <th>rank</th>\n",
       "      <th>runner</th>\n",
       "      <th>time</th>\n",
       "      <th>age</th>\n",
       "      <th>gender</th>\n",
       "      <th>nationality</th>\n",
       "      <th>time_in_seconds</th>\n",
       "      <th>event</th>\n",
       "      <th>race</th>\n",
       "      <th>...</th>\n",
       "      <th>country</th>\n",
       "      <th>date</th>\n",
       "      <th>start_time</th>\n",
       "      <th>participation</th>\n",
       "      <th>distance</th>\n",
       "      <th>elevation_gain</th>\n",
       "      <th>elevation_loss</th>\n",
       "      <th>aid_stations</th>\n",
       "      <th>participants</th>\n",
       "      <th>average_speed</th>\n",
       "    </tr>\n",
       "  </thead>\n",
       "  <tbody>\n",
       "    <tr>\n",
       "      <th>0</th>\n",
       "      <td>68140</td>\n",
       "      <td>1.0</td>\n",
       "      <td>VERHEUL Jasper</td>\n",
       "      <td>26H 35M 25S</td>\n",
       "      <td>30</td>\n",
       "      <td>M</td>\n",
       "      <td>GBR</td>\n",
       "      <td>95725.0</td>\n",
       "      <td>Peak District Ultras</td>\n",
       "      <td>Millstone 100</td>\n",
       "      <td>...</td>\n",
       "      <td>United Kingdom</td>\n",
       "      <td>2021-09-03</td>\n",
       "      <td>19:00:00</td>\n",
       "      <td>solo</td>\n",
       "      <td>166.9</td>\n",
       "      <td>4520</td>\n",
       "      <td>-4520</td>\n",
       "      <td>10</td>\n",
       "      <td>150</td>\n",
       "      <td>6.276730</td>\n",
       "    </tr>\n",
       "    <tr>\n",
       "      <th>1</th>\n",
       "      <td>68140</td>\n",
       "      <td>2.0</td>\n",
       "      <td>MOULDING JON</td>\n",
       "      <td>27H 0M 29S</td>\n",
       "      <td>43</td>\n",
       "      <td>M</td>\n",
       "      <td>GBR</td>\n",
       "      <td>97229.0</td>\n",
       "      <td>Peak District Ultras</td>\n",
       "      <td>Millstone 100</td>\n",
       "      <td>...</td>\n",
       "      <td>United Kingdom</td>\n",
       "      <td>2021-09-03</td>\n",
       "      <td>19:00:00</td>\n",
       "      <td>solo</td>\n",
       "      <td>166.9</td>\n",
       "      <td>4520</td>\n",
       "      <td>-4520</td>\n",
       "      <td>10</td>\n",
       "      <td>150</td>\n",
       "      <td>6.179638</td>\n",
       "    </tr>\n",
       "    <tr>\n",
       "      <th>2</th>\n",
       "      <td>68140</td>\n",
       "      <td>3.0</td>\n",
       "      <td>RICHARDSON Phill</td>\n",
       "      <td>28H 49M 7S</td>\n",
       "      <td>38</td>\n",
       "      <td>M</td>\n",
       "      <td>GBR</td>\n",
       "      <td>103747.0</td>\n",
       "      <td>Peak District Ultras</td>\n",
       "      <td>Millstone 100</td>\n",
       "      <td>...</td>\n",
       "      <td>United Kingdom</td>\n",
       "      <td>2021-09-03</td>\n",
       "      <td>19:00:00</td>\n",
       "      <td>solo</td>\n",
       "      <td>166.9</td>\n",
       "      <td>4520</td>\n",
       "      <td>-4520</td>\n",
       "      <td>10</td>\n",
       "      <td>150</td>\n",
       "      <td>5.791396</td>\n",
       "    </tr>\n",
       "    <tr>\n",
       "      <th>3</th>\n",
       "      <td>68140</td>\n",
       "      <td>4.0</td>\n",
       "      <td>DYSON Fiona</td>\n",
       "      <td>30H 53M 37S</td>\n",
       "      <td>55</td>\n",
       "      <td>W</td>\n",
       "      <td>GBR</td>\n",
       "      <td>111217.0</td>\n",
       "      <td>Peak District Ultras</td>\n",
       "      <td>Millstone 100</td>\n",
       "      <td>...</td>\n",
       "      <td>United Kingdom</td>\n",
       "      <td>2021-09-03</td>\n",
       "      <td>19:00:00</td>\n",
       "      <td>solo</td>\n",
       "      <td>166.9</td>\n",
       "      <td>4520</td>\n",
       "      <td>-4520</td>\n",
       "      <td>10</td>\n",
       "      <td>150</td>\n",
       "      <td>5.402412</td>\n",
       "    </tr>\n",
       "    <tr>\n",
       "      <th>4</th>\n",
       "      <td>68140</td>\n",
       "      <td>5.0</td>\n",
       "      <td>FRONTERAS Karen</td>\n",
       "      <td>32H 46M 21S</td>\n",
       "      <td>48</td>\n",
       "      <td>W</td>\n",
       "      <td>GBR</td>\n",
       "      <td>117981.0</td>\n",
       "      <td>Peak District Ultras</td>\n",
       "      <td>Millstone 100</td>\n",
       "      <td>...</td>\n",
       "      <td>United Kingdom</td>\n",
       "      <td>2021-09-03</td>\n",
       "      <td>19:00:00</td>\n",
       "      <td>solo</td>\n",
       "      <td>166.9</td>\n",
       "      <td>4520</td>\n",
       "      <td>-4520</td>\n",
       "      <td>10</td>\n",
       "      <td>150</td>\n",
       "      <td>5.092684</td>\n",
       "    </tr>\n",
       "  </tbody>\n",
       "</table>\n",
       "<p>5 rows × 21 columns</p>\n",
       "</div>"
      ],
      "text/plain": [
       "   race_year_id  rank            runner         time  age gender nationality  \\\n",
       "0         68140   1.0    VERHEUL Jasper  26H 35M 25S   30      M         GBR   \n",
       "1         68140   2.0      MOULDING JON   27H 0M 29S   43      M         GBR   \n",
       "2         68140   3.0  RICHARDSON Phill   28H 49M 7S   38      M         GBR   \n",
       "3         68140   4.0       DYSON Fiona  30H 53M 37S   55      W         GBR   \n",
       "4         68140   5.0   FRONTERAS Karen  32H 46M 21S   48      W         GBR   \n",
       "\n",
       "   time_in_seconds                 event           race  ...         country  \\\n",
       "0          95725.0  Peak District Ultras  Millstone 100  ...  United Kingdom   \n",
       "1          97229.0  Peak District Ultras  Millstone 100  ...  United Kingdom   \n",
       "2         103747.0  Peak District Ultras  Millstone 100  ...  United Kingdom   \n",
       "3         111217.0  Peak District Ultras  Millstone 100  ...  United Kingdom   \n",
       "4         117981.0  Peak District Ultras  Millstone 100  ...  United Kingdom   \n",
       "\n",
       "         date start_time participation distance  elevation_gain  \\\n",
       "0  2021-09-03   19:00:00          solo    166.9            4520   \n",
       "1  2021-09-03   19:00:00          solo    166.9            4520   \n",
       "2  2021-09-03   19:00:00          solo    166.9            4520   \n",
       "3  2021-09-03   19:00:00          solo    166.9            4520   \n",
       "4  2021-09-03   19:00:00          solo    166.9            4520   \n",
       "\n",
       "   elevation_loss  aid_stations  participants  average_speed  \n",
       "0           -4520            10           150       6.276730  \n",
       "1           -4520            10           150       6.179638  \n",
       "2           -4520            10           150       5.791396  \n",
       "3           -4520            10           150       5.402412  \n",
       "4           -4520            10           150       5.092684  \n",
       "\n",
       "[5 rows x 21 columns]"
      ]
     },
     "execution_count": 4,
     "metadata": {},
     "output_type": "execute_result"
    }
   ],
   "source": [
    "#Since we are interested in average speed, we create that column:\n",
    "merged['average_speed'] = merged['distance'] / (merged['time_in_seconds']/3600)\n",
    "merged.head()\n",
    "#Unit for average_speed is km/hour"
   ]
  },
  {
   "cell_type": "code",
   "execution_count": 5,
   "id": "d32db32a",
   "metadata": {},
   "outputs": [
    {
     "data": {
      "text/plain": [
       "<seaborn.axisgrid.FacetGrid at 0x7fda81d31d90>"
      ]
     },
     "execution_count": 5,
     "metadata": {},
     "output_type": "execute_result"
    },
    {
     "data": {
      "image/png": "[encoded data removed]",
      "text/plain": [
       "<Figure size 360x360 with 1 Axes>"
      ]
     },
     "metadata": {
      "needs_background": "light"
     },
     "output_type": "display_data"
    }
   ],
   "source": [
    "# Exploratory Data Analysis - Average Speed vs. Gender\n",
    "\n",
    "# Drop 1st Max Outlier\n",
    "max_speed = merged[\"average_speed\"].max()\n",
    "max_speed_index = merged.index[merged[\"average_speed\"] == max_speed]\n",
    "\n",
    "merged = merged.drop(index = max_speed_index)\n",
    "\n",
    "\n",
    "# Drop 2nd Max Outlier\n",
    "max_speed2 = merged[\"average_speed\"].max()\n",
    "max_speed_index2 = merged.index[merged[\"average_speed\"] == max_speed2]\n",
    "\n",
    "merged = merged.drop(index = max_speed_index2)\n",
    "\n",
    "\n",
    "sns.catplot(x = \"gender\", y = \"average_speed\", kind = \"box\", data = merged, color = \"plum\")"
   ]
  },
  {
   "cell_type": "code",
   "execution_count": 6,
   "id": "5c2590cf",
   "metadata": {},
   "outputs": [
    {
     "data": {
      "text/plain": [
       "<AxesSubplot:xlabel='nationality'>"
      ]
     },
     "execution_count": 6,
     "metadata": {},
     "output_type": "execute_result"
    },
    {
     "data": {
      "image/png": "[encoded data removed]",
      "text/plain": [
       "<Figure size 432x288 with 1 Axes>"
      ]
     },
     "metadata": {
      "needs_background": "light"
     },
     "output_type": "display_data"
    }
   ],
   "source": [
    "# Nationalities with at least 100 top 10 runners\n",
    "top10 = merged[merged[\"rank\"] <= 10]\n",
    "\n",
    "top10_count = top10.groupby(\"nationality\")[\"runner\"].count().sort_values()\n",
    "\n",
    "dftop10_count = pd.DataFrame(top10_count)\n",
    "\n",
    "df = top10_count.to_frame()\n",
    "df_100 = df[df[\"runner\"] >=100]\n",
    "df_100.reset_index().plot(x='nationality', y='runner', kind = \"bar\")"
   ]
  },
  {
   "cell_type": "code",
   "execution_count": 7,
   "id": "6bbeceff",
   "metadata": {},
   "outputs": [
    {
     "data": {
      "text/plain": [
       "<AxesSubplot:xlabel='nationality'>"
      ]
     },
     "execution_count": 7,
     "metadata": {},
     "output_type": "execute_result"
    },
    {
     "data": {
      "image/png": "[encoded data removed]",
      "text/plain": [
       "<Figure size 432x288 with 1 Axes>"
      ]
     },
     "metadata": {
      "needs_background": "light"
     },
     "output_type": "display_data"
    }
   ],
   "source": [
    "# Compare Average Speeds for countries with at least 100 top 10 runners\n",
    "\n",
    "df_100_inner = merged.merge(df_100, on = \"nationality\")\n",
    "\n",
    "df_100_inner_avg_speed = df_100_inner.groupby(\"nationality\")[\"average_speed\"].mean(\"average_speed\").sort_values()\n",
    "df_100_inner_avg_speed = pd.DataFrame(df_100_inner_avg_speed)\n",
    "\n",
    "df_100_inner_avg_speed.reset_index().plot(x='nationality', y='average_speed', kind = \"bar\", color = \"slateblue\")"
   ]
  },
  {
   "cell_type": "code",
   "execution_count": 8,
   "id": "8ee1a087",
   "metadata": {},
   "outputs": [],
   "source": [
    "# # Male and Female Composition for Countries with at least 100 top 10 runners\n",
    "# df_100_inner.groupby(['nationality', 'gender']).size().unstack().plot(kind='bar', stacked=True)"
   ]
  },
  {
   "cell_type": "code",
   "execution_count": 9,
   "id": "a43db6ed",
   "metadata": {},
   "outputs": [
    {
     "data": {
      "text/plain": [
       "<seaborn.axisgrid.FacetGrid at 0x7fda86492340>"
      ]
     },
     "execution_count": 9,
     "metadata": {},
     "output_type": "execute_result"
    },
    {
     "data": {
      "image/png": "[encoded data removed]",
      "text/plain": [
       "<Figure size 360x360 with 1 Axes>"
      ]
     },
     "metadata": {
      "needs_background": "light"
     },
     "output_type": "display_data"
    }
   ],
   "source": [
    "# Distribution of Age\n",
    "\n",
    "sns.displot(data = merged, bins = 30, x = \"age\", color = \"plum\")"
   ]
  },
  {
   "cell_type": "code",
   "execution_count": 10,
   "id": "4447a09d",
   "metadata": {},
   "outputs": [
    {
     "data": {
      "text/plain": [
       "<AxesSubplot:xlabel='age', ylabel='average_speed'>"
      ]
     },
     "execution_count": 10,
     "metadata": {},
     "output_type": "execute_result"
    },
    {
     "data": {
      "image/png": "[encoded data removed]",
      "text/plain": [
       "<Figure size 432x288 with 1 Axes>"
      ]
     },
     "metadata": {
      "needs_background": "light"
     },
     "output_type": "display_data"
    }
   ],
   "source": [
    "# EDA Relationship Between average_speed and age\n",
    "\n",
    "age_avg_speed = merged.groupby(\"age\")[\"average_speed\"].mean(\"average_speed\")\n",
    "age_avg_speed\n",
    "\n",
    "age_avg_speed_df = pd.DataFrame(age_avg_speed)\n",
    "age_avg_speed_df\n",
    "\n",
    "# age_avg_speed_df.reset_index().plot(x='age', y='average_speed', kind = \"scatter\")\n",
    "sns.regplot(x=age_avg_speed_df.index, y=\"average_speed\", data=age_avg_speed_df)\n",
    "# sns.relplot(data = merged, x = \"age\", y = \"average_speed\")"
   ]
  },
  {
   "cell_type": "code",
   "execution_count": 11,
   "id": "2480fc0f",
   "metadata": {},
   "outputs": [
    {
     "data": {
      "text/plain": [
       "<AxesSubplot:xlabel='aid_stations', ylabel='average_speed'>"
      ]
     },
     "execution_count": 11,
     "metadata": {},
     "output_type": "execute_result"
    },
    {
     "data": {
      "image/png": "[encoded data removed]",
      "text/plain": [
       "<Figure size 432x288 with 1 Axes>"
      ]
     },
     "metadata": {
      "needs_background": "light"
     },
     "output_type": "display_data"
    }
   ],
   "source": [
    "# EDA Relationship Between average_speed and aid_stations\n",
    "\n",
    "top10_count1 = top10.groupby(\"aid_stations\")[\"runner\"].count().sort_index()\n",
    "\n",
    "dftop10_count1 = pd.DataFrame(top10_count1)\n",
    "\n",
    "df1 = top10_count1.to_frame()\n",
    "df_100_1 = df1[df1[\"runner\"] >=100]\n",
    "\n",
    "df_100_inner1 = merged.merge(df_100_1, on = \"aid_stations\")\n",
    "\n",
    "df_100_inner_avg_speed1 = df_100_inner1.groupby(\"aid_stations\")[\"average_speed\"].mean(\"average_speed\").sort_index()\n",
    "df_100_inner_avg_speed1 = pd.DataFrame(df_100_inner_avg_speed1)\n",
    "\n",
    "sns.regplot(x=df_100_inner_avg_speed1.index, y=\"average_speed\", data=df_100_inner_avg_speed1)"
   ]
  },
  {
   "cell_type": "code",
   "execution_count": 12,
   "id": "05e4e9bb",
   "metadata": {},
   "outputs": [
    {
     "data": {
      "text/plain": [
       "<AxesSubplot:xlabel='distance', ylabel='average_speed'>"
      ]
     },
     "execution_count": 12,
     "metadata": {},
     "output_type": "execute_result"
    },
    {
     "data": {
      "image/png": "[encoded data removed]",
      "text/plain": [
       "<Figure size 432x288 with 1 Axes>"
      ]
     },
     "metadata": {
      "needs_background": "light"
     },
     "output_type": "display_data"
    }
   ],
   "source": [
    "# EDA Relationship Between average_speed and distance\n",
    "top10_count2 = top10.groupby(\"distance\")[\"runner\"].count().sort_index()\n",
    "\n",
    "dftop10_count2 = pd.DataFrame(top10_count2)\n",
    "\n",
    "df2 = top10_count2.to_frame()\n",
    "df_100_2 = df2[df2[\"runner\"] >=100]\n",
    "\n",
    "\n",
    "df_100_inner2 = merged.merge(df_100_2, on = \"distance\")\n",
    "\n",
    "df_100_inner_avg_speed2 = df_100_inner2.groupby(\"distance\")[\"average_speed\"].mean(\"average_speed\").sort_index()\n",
    "\n",
    "df_100_inner_avg_speed2 = pd.DataFrame(df_100_inner_avg_speed2)\n",
    "\n",
    "df_100_inner_avg_speed2\n",
    "\n",
    "dropped = df_100_inner_avg_speed2[df_100_inner_avg_speed2[\"average_speed\"] > 0]\n",
    "\n",
    "sns.regplot(x=dropped.index, y=\"average_speed\", data=dropped)\n"
   ]
  },
  {
   "cell_type": "code",
   "execution_count": 13,
   "id": "6aca193c",
   "metadata": {},
   "outputs": [
    {
     "name": "stderr",
     "output_type": "stream",
     "text": [
      "/var/folders/tf/jzjw6k3148dck9lhd_v_jd180000gn/T/ipykernel_36499/667400875.py:2: SettingWithCopyWarning: \n",
      "A value is trying to be set on a copy of a slice from a DataFrame.\n",
      "Try using .loc[row_indexer,col_indexer] = value instead\n",
      "\n",
      "See the caveats in the documentation: https://pandas.pydata.org/pandas-docs/stable/user_guide/indexing.html#returning-a-view-versus-a-copy\n",
      "  top10[\"net_elevation\"] = top10[\"elevation_gain\"] + top10[\"elevation_loss\"]\n"
     ]
    },
    {
     "data": {
      "text/plain": [
       "<AxesSubplot:xlabel='net_elevation', ylabel='average_speed'>"
      ]
     },
     "execution_count": 13,
     "metadata": {},
     "output_type": "execute_result"
    },
    {
     "data": {
      "image/png": "[encoded data removed]",
      "text/plain": [
       "<Figure size 432x288 with 1 Axes>"
      ]
     },
     "metadata": {
      "needs_background": "light"
     },
     "output_type": "display_data"
    }
   ],
   "source": [
    "# EDA Relationship Between average_speed and net_elevation\n",
    "top10[\"net_elevation\"] = top10[\"elevation_gain\"] + top10[\"elevation_loss\"]\n",
    "top10\n",
    "\n",
    "top10_count3 = top10.groupby(\"net_elevation\")[\"runner\"].count().sort_index()\n",
    "\n",
    "dftop10_count3 = pd.DataFrame(top10_count3)\n",
    "dftop10_count3\n",
    "\n",
    "df_100_3 = dftop10_count3[dftop10_count3[\"runner\"] >=100]\n",
    "df_100_3\n",
    "\n",
    "\n",
    "df_100_inner3 = top10.merge(df_100_3, on = \"net_elevation\")\n",
    "df_100_inner3\n",
    "\n",
    "df_100_inner_avg_speed3 = df_100_inner3.groupby(\"net_elevation\")[\"average_speed\"].mean(\"average_speed\").sort_index()\n",
    "\n",
    "df_100_inner_avg_speed3 = pd.DataFrame(df_100_inner_avg_speed3)\n",
    "\n",
    "df_100_inner_avg_speed3\n",
    "\n",
    "\n",
    "\n",
    "sns.regplot(x=df_100_inner_avg_speed3.index, y=\"average_speed\", data=df_100_inner_avg_speed3)"
   ]
  },
  {
   "cell_type": "code",
   "execution_count": 14,
   "id": "2c1e8027",
   "metadata": {},
   "outputs": [
    {
     "name": "stdout",
     "output_type": "stream",
     "text": [
      "Model MSE: 2.767723073022392 r^2: 0.46269039838784487\n"
     ]
    }
   ],
   "source": [
    "# Linear model: average_speed as a linear function of aid_stations, net_elevation, and distance\n",
    "numerical2 = top10[['aid_stations', 'net_elevation', 'distance']].values\n",
    "linear_target2 = top10['average_speed'].values\n",
    "\n",
    "linear_model2 = LinearRegression()\n",
    "linear_model2.fit(X=numerical2, y=linear_target2)\n",
    "predicted2 = linear_model2.predict(numerical2)\n",
    "\n",
    "mse2 = mean_squared_error(linear_target2, predicted2)\n",
    "r2_2 = r2_score(linear_target2, predicted2)\n",
    "print(\"Model MSE:\", mse2, \"r^2:\", r2_2)\n"
   ]
  },
  {
   "cell_type": "code",
   "execution_count": 15,
   "id": "d3a3402c",
   "metadata": {},
   "outputs": [
    {
     "name": "stdout",
     "output_type": "stream",
     "text": [
      "Model MSE: 4.664114179153779 r^2: 0.09453609867910151\n"
     ]
    }
   ],
   "source": [
    "# Linear Model: average_speed as a linear function of gender, age, and nationality\n",
    "categorical = OneHotEncoder().fit_transform(top10[['gender', \"nationality\"]].values).toarray()\n",
    "numerical = top10[['age']].values\n",
    "linear_data = np.append(categorical, numerical, axis=1)\n",
    "linear_target = top10['average_speed'].values\n",
    "\n",
    "linear_model = LinearRegression()\n",
    "linear_model.fit(X=linear_data, y=linear_target)\n",
    "predicted = linear_model.predict(linear_data)\n",
    "\n",
    "mse = mean_squared_error(linear_target, predicted)\n",
    "r2 = r2_score(linear_target, predicted)\n",
    "print(\"Model MSE:\", mse, \"r^2:\", r2)"
   ]
  },
  {
   "cell_type": "code",
   "execution_count": 16,
   "id": "7d88f7e3",
   "metadata": {},
   "outputs": [
    {
     "data": {
      "text/plain": [
       "gender\n",
       "M    4.884041\n",
       "W    4.884091\n",
       "Name: average_speed, dtype: float64"
      ]
     },
     "execution_count": 16,
     "metadata": {},
     "output_type": "execute_result"
    }
   ],
   "source": [
    "#We can start by computing the average of average_speed for male & female \n",
    "#contestants \n",
    "merged.groupby(['gender']).mean('average_speed')['average_speed']\n",
    "\n",
    "#Notice the result is very close, but again we do have lots of entries for\n",
    "#both gender. We can do a hypothesis test to figure out if such tiny diffe\n",
    "#erence is significant by performing a bootstrap sampling:"
   ]
  },
  {
   "cell_type": "code",
   "execution_count": 17,
   "id": "345ff494",
   "metadata": {},
   "outputs": [
    {
     "name": "stdout",
     "output_type": "stream",
     "text": [
      "4.873501480520077 4.8950111799531335\n",
      "4.858207201656997 4.911871454712931\n"
     ]
    }
   ],
   "source": [
    "#first grab the average speed for male and female runners across all races\n",
    "male = merged[merged['gender'] == 'M']\n",
    "female = merged[merged['gender'] == 'W']\n",
    "male_speed = male['average_speed'].dropna()\n",
    "female_speed = female['average_speed'].dropna()\n",
    "\n",
    "#perform bootstrapping: repeat 500 times\n",
    "import numpy as np\n",
    "reps = 500\n",
    "male_bootstrap = np.random.choice(male_speed, size=(reps,len(male_speed)),replace = True)\n",
    "female_bootstrap = np.random.choice(female_speed, size=(reps,len(female_speed)),replace = True)\n",
    "\n",
    "#Then compute the mean for each bootstrap sample\n",
    "male_boot_mean = male_bootstrap.mean(axis=1)\n",
    "female_boot_mean = female_bootstrap.mean(axis=1)\n",
    "\n",
    "#Confidence interval for average of average speed for male & female runners\n",
    "male_ci_lower = np.percentile(male_boot_mean, 2.5)\n",
    "male_ci_higher = np.percentile(male_boot_mean, 97.5)\n",
    "female_ci_lower = np.percentile(female_boot_mean, 2.5)\n",
    "female_ci_higher = np.percentile(female_boot_mean, 97.5)\n",
    "\n",
    "print(male_ci_lower,male_ci_higher)\n",
    "print(female_ci_lower,female_ci_higher)"
   ]
  },
  {
   "cell_type": "markdown",
   "id": "f68494e5",
   "metadata": {},
   "source": [
    "Conclusion: Since the two confidence intervals actually overlap, so we conclude that the average speed for male and female runners are not significantly different"
   ]
  },
  {
   "cell_type": "code",
   "execution_count": 18,
   "id": "e92f89e2",
   "metadata": {},
   "outputs": [],
   "source": [
    "import pandas as pd\n",
    "import seaborn as sns\n",
    "races = pd.read_csv('race.csv')\n",
    "runners = pd.read_csv('ultra_rankings.csv')\n",
    "merged = pd.merge(runners,races, on='race_year_id')\n",
    "merged['average_speed'] = merged['distance'] / (merged['time_in_seconds']/3600)\n",
    "merged = merged.dropna()\n",
    "from sklearn.linear_model import LinearRegression\n",
    "from sklearn.metrics import mean_squared_error\n",
    "from sklearn.metrics import r2_score\n",
    "from sklearn.preprocessing import OneHotEncoder\n",
    "import numpy as np"
   ]
  },
  {
   "cell_type": "code",
   "execution_count": 19,
   "id": "58bdfedc",
   "metadata": {},
   "outputs": [
    {
     "name": "stdout",
     "output_type": "stream",
     "text": [
      "Model MSE: 3.3508734975596166 r^2: 0.007204488818786436\n"
     ]
    }
   ],
   "source": [
    "# Baseline: average_speed as a linear function of gender and age\n",
    "baseline_categorical = OneHotEncoder().fit_transform(merged[['gender']].values).toarray()\n",
    "baseline_numerical = merged[['age']].values\n",
    "baseline_data = np.append(baseline_categorical, baseline_numerical, axis=1)\n",
    "baseline_target = merged['average_speed'].values\n",
    "\n",
    "linear_model = LinearRegression()\n",
    "linear_model.fit(X=baseline_data, y=baseline_target)\n",
    "baseline = linear_model.predict(baseline_data)\n",
    "\n",
    "baseline_mse = mean_squared_error(baseline_target, baseline)\n",
    "baseline_r2 = r2_score(baseline_target, baseline)\n",
    "print(\"Model MSE:\", baseline_mse, \"r^2:\", baseline_r2)"
   ]
  },
  {
   "cell_type": "code",
   "execution_count": 20,
   "id": "7f29b24e",
   "metadata": {},
   "outputs": [
    {
     "name": "stdout",
     "output_type": "stream",
     "text": [
      "Model MSE: 2.801268536818721 r^2: 0.17004123522054482\n"
     ]
    }
   ],
   "source": [
    "# Model: average_speed as a linear function of gender, age, and nationality\n",
    "categorical = OneHotEncoder().fit_transform(merged[['gender', \"nationality\"]].values).toarray()\n",
    "numerical = merged[['age']].values\n",
    "linear_data = np.append(categorical, numerical, axis=1)\n",
    "linear_target = merged['average_speed'].values\n",
    "\n",
    "linear_model = LinearRegression()\n",
    "linear_model.fit(X=linear_data, y=linear_target)\n",
    "predicted = linear_model.predict(linear_data)\n",
    "\n",
    "mse = mean_squared_error(linear_target, predicted)\n",
    "r2 = r2_score(linear_target, predicted)\n",
    "print(\"Model MSE:\", mse, \"r^2:\", r2)"
   ]
  },
  {
   "cell_type": "code",
   "execution_count": 21,
   "id": "61c01e71",
   "metadata": {},
   "outputs": [],
   "source": [
    "# Split data\n",
    "from sklearn.model_selection import train_test_split\n",
    "\n",
    "logistic_target = merged['nationality']\n",
    "train_data, test_data, train_target, test_target = train_test_split(\n",
    "    merged, logistic_target, test_size=0.7, random_state=999)"
   ]
  },
  {
   "cell_type": "code",
   "execution_count": 22,
   "id": "762bad9e",
   "metadata": {},
   "outputs": [],
   "source": [
    "# # Create and fit a logistic regression model to predict the nationality using gender, age, and average_speed\n",
    "# from sklearn.linear_model import LogisticRegression\n",
    "# from sklearn.preprocessing import OneHotEncoder\n",
    "# from sklearn.metrics import accuracy_score\n",
    "# from sklearn.metrics import ConfusionMatrixDisplay\n",
    "# from sklearn import metrics\n",
    "# import matplotlib.pyplot as plt\n",
    "\n",
    "# categorical_train = OneHotEncoder().fit_transform(train_data[['gender']].values).toarray()\n",
    "# numerical_train = train_data[['age', 'average_speed']].values\n",
    "# train_data = np.append(categorical_train, numerical_train, axis=1)\n",
    "\n",
    "# categorical_test = OneHotEncoder().fit_transform(test_data[['gender']].values).toarray()\n",
    "# numerical_test = test_data[['age', 'average_speed']].values\n",
    "# test_data = np.append(categorical_test, numerical_test, axis=1)\n",
    "\n",
    "# logistic_model = LogisticRegression(max_iter=1000)\n",
    "# logistic_model.fit(X=train_data, y=train_target)\n",
    "# logistic_predicted = logistic_model.predict(test_data)\n",
    "\n",
    "# score = accuracy_score(y_true=test_target, y_pred=logistic_predicted)\n",
    "\n",
    "# ConfusionMatrixDisplay.from_predictions(y_true=test_target, y_pred=logistic_predicted)\n",
    "# plt.grid(False)\n",
    "\n",
    "# print(\"Model classification accuracy:\", score)"
   ]
  },
  {
   "cell_type": "code",
   "execution_count": null,
   "id": "d2bc6e14",
   "metadata": {},
   "outputs": [],
   "source": []
  }
 ],
 "metadata": {
  "kernelspec": {
   "display_name": "Python 3 (ipykernel)",
   "language": "python",
   "name": "python3"
  },
  "language_info": {
   "codemirror_mode": {
    "name": "ipython",
    "version": 3
   },
   "file_extension": ".py",
   "mimetype": "text/x-python",
   "name": "python",
   "nbconvert_exporter": "python",
   "pygments_lexer": "ipython3",
   "version": "3.9.12"
  }
 },
 "nbformat": 4,
 "nbformat_minor": 5
}
