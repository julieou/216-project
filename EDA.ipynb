{
 "cells": [
  {
   "cell_type": "code",
   "execution_count": 4,
   "id": "3bf6a9eb",
   "metadata": {},
   "outputs": [],
   "source": [
    "import pandas as pd\n",
    "\n",
    "races = pd.read_csv('race.csv')\n",
    "runners = pd.read_csv('ultra_rankings.csv')"
   ]
  },
  {
   "cell_type": "code",
   "execution_count": 7,
   "id": "84182573",
   "metadata": {},
   "outputs": [
    {
     "name": "stdout",
     "output_type": "stream",
     "text": [
      "137803\n",
      "1207\n"
     ]
    }
   ],
   "source": [
    "print(len(runners))\n",
    "print(len(races))"
   ]
  },
  {
   "cell_type": "code",
   "execution_count": 8,
   "id": "9838ebbf",
   "metadata": {},
   "outputs": [
    {
     "data": {
      "text/html": [
       "<div>\n",
       "<style scoped>\n",
       "    .dataframe tbody tr th:only-of-type {\n",
       "        vertical-align: middle;\n",
       "    }\n",
       "\n",
       "    .dataframe tbody tr th {\n",
       "        vertical-align: top;\n",
       "    }\n",
       "\n",
       "    .dataframe thead th {\n",
       "        text-align: right;\n",
       "    }\n",
       "</style>\n",
       "<table border=\"1\" class=\"dataframe\">\n",
       "  <thead>\n",
       "    <tr style=\"text-align: right;\">\n",
       "      <th></th>\n",
       "      <th>race_year_id</th>\n",
       "      <th>rank</th>\n",
       "      <th>runner</th>\n",
       "      <th>time</th>\n",
       "      <th>age</th>\n",
       "      <th>gender</th>\n",
       "      <th>nationality</th>\n",
       "      <th>time_in_seconds</th>\n",
       "    </tr>\n",
       "  </thead>\n",
       "  <tbody>\n",
       "    <tr>\n",
       "      <th>0</th>\n",
       "      <td>68140</td>\n",
       "      <td>1.0</td>\n",
       "      <td>VERHEUL Jasper</td>\n",
       "      <td>26H 35M 25S</td>\n",
       "      <td>30</td>\n",
       "      <td>M</td>\n",
       "      <td>GBR</td>\n",
       "      <td>95725.0</td>\n",
       "    </tr>\n",
       "    <tr>\n",
       "      <th>1</th>\n",
       "      <td>68140</td>\n",
       "      <td>2.0</td>\n",
       "      <td>MOULDING JON</td>\n",
       "      <td>27H 0M 29S</td>\n",
       "      <td>43</td>\n",
       "      <td>M</td>\n",
       "      <td>GBR</td>\n",
       "      <td>97229.0</td>\n",
       "    </tr>\n",
       "    <tr>\n",
       "      <th>2</th>\n",
       "      <td>68140</td>\n",
       "      <td>3.0</td>\n",
       "      <td>RICHARDSON Phill</td>\n",
       "      <td>28H 49M 7S</td>\n",
       "      <td>38</td>\n",
       "      <td>M</td>\n",
       "      <td>GBR</td>\n",
       "      <td>103747.0</td>\n",
       "    </tr>\n",
       "    <tr>\n",
       "      <th>3</th>\n",
       "      <td>68140</td>\n",
       "      <td>4.0</td>\n",
       "      <td>DYSON Fiona</td>\n",
       "      <td>30H 53M 37S</td>\n",
       "      <td>55</td>\n",
       "      <td>W</td>\n",
       "      <td>GBR</td>\n",
       "      <td>111217.0</td>\n",
       "    </tr>\n",
       "    <tr>\n",
       "      <th>4</th>\n",
       "      <td>68140</td>\n",
       "      <td>5.0</td>\n",
       "      <td>FRONTERAS Karen</td>\n",
       "      <td>32H 46M 21S</td>\n",
       "      <td>48</td>\n",
       "      <td>W</td>\n",
       "      <td>GBR</td>\n",
       "      <td>117981.0</td>\n",
       "    </tr>\n",
       "  </tbody>\n",
       "</table>\n",
       "</div>"
      ],
      "text/plain": [
       "   race_year_id  rank            runner         time  age gender nationality  \\\n",
       "0         68140   1.0    VERHEUL Jasper  26H 35M 25S   30      M         GBR   \n",
       "1         68140   2.0      MOULDING JON   27H 0M 29S   43      M         GBR   \n",
       "2         68140   3.0  RICHARDSON Phill   28H 49M 7S   38      M         GBR   \n",
       "3         68140   4.0       DYSON Fiona  30H 53M 37S   55      W         GBR   \n",
       "4         68140   5.0   FRONTERAS Karen  32H 46M 21S   48      W         GBR   \n",
       "\n",
       "   time_in_seconds  \n",
       "0          95725.0  \n",
       "1          97229.0  \n",
       "2         103747.0  \n",
       "3         111217.0  \n",
       "4         117981.0  "
      ]
     },
     "execution_count": 8,
     "metadata": {},
     "output_type": "execute_result"
    }
   ],
   "source": [
    "runners.head()"
   ]
  },
  {
   "cell_type": "code",
   "execution_count": 17,
   "id": "b4dadce4",
   "metadata": {},
   "outputs": [
    {
     "name": "stdout",
     "output_type": "stream",
     "text": [
      "179.1\n",
      "152.61869096934527\n",
      "0.0\n"
     ]
    }
   ],
   "source": [
    "races.head()\n",
    "print(races['distance'].max())\n",
    "print(races['distance'].mean())\n",
    "print(races['distance'].min())\n"
   ]
  },
  {
   "cell_type": "code",
   "execution_count": 20,
   "id": "dc3838c5",
   "metadata": {},
   "outputs": [
    {
     "data": {
      "text/plain": [
       "0         0.104612\n",
       "1         0.102994\n",
       "2         0.096523\n",
       "3         0.090040\n",
       "4         0.084878\n",
       "            ...   \n",
       "137798    0.075622\n",
       "137799    0.075339\n",
       "137800    0.075023\n",
       "137801    0.074953\n",
       "137802    0.074849\n",
       "Name: average_speed, Length: 137803, dtype: float64"
      ]
     },
     "execution_count": 20,
     "metadata": {},
     "output_type": "execute_result"
    }
   ],
   "source": [
    "total = pd.merge(runners,races, on='race_year_id')\n",
    "total['average_speed'] = total['distance']/(total['time_in_seconds']/60)\n",
    "total.head()"
   ]
  },
  {
   "cell_type": "code",
   "execution_count": 24,
   "id": "5661b8bd",
   "metadata": {},
   "outputs": [
    {
     "data": {
      "text/plain": [
       "(array([120011,      0,      1]), array([0, 1, 2, 3]))"
      ]
     },
     "execution_count": 24,
     "metadata": {},
     "output_type": "execute_result"
    }
   ],
   "source": [
    "import numpy as np\n",
    "np.histogram(total['average_speed'],bins=[0, 1, 2, 3])"
   ]
  },
  {
   "cell_type": "code",
   "execution_count": null,
   "id": "7d88f7e3",
   "metadata": {},
   "outputs": [],
   "source": []
  }
 ],
 "metadata": {
  "kernelspec": {
   "display_name": "Python 3 (ipykernel)",
   "language": "python",
   "name": "python3"
  },
  "language_info": {
   "codemirror_mode": {
    "name": "ipython",
    "version": 3
   },
   "file_extension": ".py",
   "mimetype": "text/x-python",
   "name": "python",
   "nbconvert_exporter": "python",
   "pygments_lexer": "ipython3",
   "version": "3.9.12"
  }
 },
 "nbformat": 4,
 "nbformat_minor": 5
}
