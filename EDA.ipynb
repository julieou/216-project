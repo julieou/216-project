{
 "cells": [
  {
   "cell_type": "code",
   "execution_count": null,
   "metadata": {},
   "outputs": [],
   "source": [
    "a = 5\n",
    "def use_a(b):\n",
    "    print(a,b)\n",
    "\n",
    "use_a(10)\n",
    "\n",
    "d = {'a' : 3, 'b' : 2, 'c' : 1}\n",
    "def weird_sort(lst):\n",
    "    return sorted(lst, key=lambda x : d[x])\n",
    "weird_sort([])"
   ]
  }
 ],
 "metadata": {
  "language_info": {
   "name": "python"
  },
  "orig_nbformat": 4
 },
 "nbformat": 4,
 "nbformat_minor": 2
}
