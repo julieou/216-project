{
 "cells": [
  {
   "cell_type": "code",
   "execution_count": 1,
   "id": "3bf6a9eb",
   "metadata": {},
   "outputs": [],
   "source": [
    "import pandas as pd\n",
    "import seaborn as sns\n",
    "\n",
    "races = pd.read_csv('race.csv')\n",
    "runners = pd.read_csv('ultra_rankings.csv')\n",
    "\n",
    "#races record information for each individual races (location, id, elevation \n",
    "#etc. runners record each contestant (on high rankings) performance for each\n",
    "#of these races. The merge key for the two datasets is the race_year_id"
   ]
  },
  {
   "cell_type": "markdown",
   "id": "144bc601",
   "metadata": {},
   "source": [
    "Original repo here: \n",
    "https://github.com/rfordatascience/tidytuesday/tree/master/data/2021/2021-10-26"
   ]
  },
  {
   "cell_type": "code",
   "execution_count": 2,
   "id": "84182573",
   "metadata": {},
   "outputs": [
    {
     "name": "stdout",
     "output_type": "stream",
     "text": [
      "137803\n",
      "1207\n"
     ]
    }
   ],
   "source": [
    "#So we've got 137803 individual entries in race results and 1207 unique \n",
    "#races at hand.\n",
    "print(len(runners))\n",
    "print(len(races))"
   ]
  },
  {
   "cell_type": "code",
   "execution_count": 3,
   "id": "a450492d",
   "metadata": {},
   "outputs": [
    {
     "data": {
      "text/html": [
       "<div>\n",
       "<style scoped>\n",
       "    .dataframe tbody tr th:only-of-type {\n",
       "        vertical-align: middle;\n",
       "    }\n",
       "\n",
       "    .dataframe tbody tr th {\n",
       "        vertical-align: top;\n",
       "    }\n",
       "\n",
       "    .dataframe thead th {\n",
       "        text-align: right;\n",
       "    }\n",
       "</style>\n",
       "<table border=\"1\" class=\"dataframe\">\n",
       "  <thead>\n",
       "    <tr style=\"text-align: right;\">\n",
       "      <th></th>\n",
       "      <th>race_year_id</th>\n",
       "      <th>rank</th>\n",
       "      <th>runner</th>\n",
       "      <th>time</th>\n",
       "      <th>age</th>\n",
       "      <th>gender</th>\n",
       "      <th>nationality</th>\n",
       "      <th>time_in_seconds</th>\n",
       "      <th>event</th>\n",
       "      <th>race</th>\n",
       "      <th>city</th>\n",
       "      <th>country</th>\n",
       "      <th>date</th>\n",
       "      <th>start_time</th>\n",
       "      <th>participation</th>\n",
       "      <th>distance</th>\n",
       "      <th>elevation_gain</th>\n",
       "      <th>elevation_loss</th>\n",
       "      <th>aid_stations</th>\n",
       "      <th>participants</th>\n",
       "    </tr>\n",
       "  </thead>\n",
       "  <tbody>\n",
       "    <tr>\n",
       "      <th>0</th>\n",
       "      <td>68140</td>\n",
       "      <td>1.0</td>\n",
       "      <td>VERHEUL Jasper</td>\n",
       "      <td>26H 35M 25S</td>\n",
       "      <td>30</td>\n",
       "      <td>M</td>\n",
       "      <td>GBR</td>\n",
       "      <td>95725.0</td>\n",
       "      <td>Peak District Ultras</td>\n",
       "      <td>Millstone 100</td>\n",
       "      <td>Castleton</td>\n",
       "      <td>United Kingdom</td>\n",
       "      <td>2021-09-03</td>\n",
       "      <td>19:00:00</td>\n",
       "      <td>solo</td>\n",
       "      <td>166.9</td>\n",
       "      <td>4520</td>\n",
       "      <td>-4520</td>\n",
       "      <td>10</td>\n",
       "      <td>150</td>\n",
       "    </tr>\n",
       "    <tr>\n",
       "      <th>1</th>\n",
       "      <td>68140</td>\n",
       "      <td>2.0</td>\n",
       "      <td>MOULDING JON</td>\n",
       "      <td>27H 0M 29S</td>\n",
       "      <td>43</td>\n",
       "      <td>M</td>\n",
       "      <td>GBR</td>\n",
       "      <td>97229.0</td>\n",
       "      <td>Peak District Ultras</td>\n",
       "      <td>Millstone 100</td>\n",
       "      <td>Castleton</td>\n",
       "      <td>United Kingdom</td>\n",
       "      <td>2021-09-03</td>\n",
       "      <td>19:00:00</td>\n",
       "      <td>solo</td>\n",
       "      <td>166.9</td>\n",
       "      <td>4520</td>\n",
       "      <td>-4520</td>\n",
       "      <td>10</td>\n",
       "      <td>150</td>\n",
       "    </tr>\n",
       "    <tr>\n",
       "      <th>2</th>\n",
       "      <td>68140</td>\n",
       "      <td>3.0</td>\n",
       "      <td>RICHARDSON Phill</td>\n",
       "      <td>28H 49M 7S</td>\n",
       "      <td>38</td>\n",
       "      <td>M</td>\n",
       "      <td>GBR</td>\n",
       "      <td>103747.0</td>\n",
       "      <td>Peak District Ultras</td>\n",
       "      <td>Millstone 100</td>\n",
       "      <td>Castleton</td>\n",
       "      <td>United Kingdom</td>\n",
       "      <td>2021-09-03</td>\n",
       "      <td>19:00:00</td>\n",
       "      <td>solo</td>\n",
       "      <td>166.9</td>\n",
       "      <td>4520</td>\n",
       "      <td>-4520</td>\n",
       "      <td>10</td>\n",
       "      <td>150</td>\n",
       "    </tr>\n",
       "    <tr>\n",
       "      <th>3</th>\n",
       "      <td>68140</td>\n",
       "      <td>4.0</td>\n",
       "      <td>DYSON Fiona</td>\n",
       "      <td>30H 53M 37S</td>\n",
       "      <td>55</td>\n",
       "      <td>W</td>\n",
       "      <td>GBR</td>\n",
       "      <td>111217.0</td>\n",
       "      <td>Peak District Ultras</td>\n",
       "      <td>Millstone 100</td>\n",
       "      <td>Castleton</td>\n",
       "      <td>United Kingdom</td>\n",
       "      <td>2021-09-03</td>\n",
       "      <td>19:00:00</td>\n",
       "      <td>solo</td>\n",
       "      <td>166.9</td>\n",
       "      <td>4520</td>\n",
       "      <td>-4520</td>\n",
       "      <td>10</td>\n",
       "      <td>150</td>\n",
       "    </tr>\n",
       "    <tr>\n",
       "      <th>4</th>\n",
       "      <td>68140</td>\n",
       "      <td>5.0</td>\n",
       "      <td>FRONTERAS Karen</td>\n",
       "      <td>32H 46M 21S</td>\n",
       "      <td>48</td>\n",
       "      <td>W</td>\n",
       "      <td>GBR</td>\n",
       "      <td>117981.0</td>\n",
       "      <td>Peak District Ultras</td>\n",
       "      <td>Millstone 100</td>\n",
       "      <td>Castleton</td>\n",
       "      <td>United Kingdom</td>\n",
       "      <td>2021-09-03</td>\n",
       "      <td>19:00:00</td>\n",
       "      <td>solo</td>\n",
       "      <td>166.9</td>\n",
       "      <td>4520</td>\n",
       "      <td>-4520</td>\n",
       "      <td>10</td>\n",
       "      <td>150</td>\n",
       "    </tr>\n",
       "  </tbody>\n",
       "</table>\n",
       "</div>"
      ],
      "text/plain": [
       "   race_year_id  rank            runner         time  age gender nationality  \\\n",
       "0         68140   1.0    VERHEUL Jasper  26H 35M 25S   30      M         GBR   \n",
       "1         68140   2.0      MOULDING JON   27H 0M 29S   43      M         GBR   \n",
       "2         68140   3.0  RICHARDSON Phill   28H 49M 7S   38      M         GBR   \n",
       "3         68140   4.0       DYSON Fiona  30H 53M 37S   55      W         GBR   \n",
       "4         68140   5.0   FRONTERAS Karen  32H 46M 21S   48      W         GBR   \n",
       "\n",
       "   time_in_seconds                 event           race       city  \\\n",
       "0          95725.0  Peak District Ultras  Millstone 100  Castleton   \n",
       "1          97229.0  Peak District Ultras  Millstone 100  Castleton   \n",
       "2         103747.0  Peak District Ultras  Millstone 100  Castleton   \n",
       "3         111217.0  Peak District Ultras  Millstone 100  Castleton   \n",
       "4         117981.0  Peak District Ultras  Millstone 100  Castleton   \n",
       "\n",
       "          country        date start_time participation  distance  \\\n",
       "0  United Kingdom  2021-09-03   19:00:00          solo     166.9   \n",
       "1  United Kingdom  2021-09-03   19:00:00          solo     166.9   \n",
       "2  United Kingdom  2021-09-03   19:00:00          solo     166.9   \n",
       "3  United Kingdom  2021-09-03   19:00:00          solo     166.9   \n",
       "4  United Kingdom  2021-09-03   19:00:00          solo     166.9   \n",
       "\n",
       "   elevation_gain  elevation_loss  aid_stations  participants  \n",
       "0            4520           -4520            10           150  \n",
       "1            4520           -4520            10           150  \n",
       "2            4520           -4520            10           150  \n",
       "3            4520           -4520            10           150  \n",
       "4            4520           -4520            10           150  "
      ]
     },
     "execution_count": 3,
     "metadata": {},
     "output_type": "execute_result"
    }
   ],
   "source": [
    "#Merge the 2 datasets by race id\n",
    "merged = pd.merge(runners,races, on='race_year_id')\n",
    "merged.head()\n",
    "\n",
    "#The race info is redundant because there are multiple contestants for\n",
    "#a single race... but we could work with that for now"
   ]
  },
  {
   "cell_type": "code",
   "execution_count": 44,
   "id": "f5a3ddff",
   "metadata": {},
   "outputs": [
    {
     "data": {
      "text/html": [
       "<div>\n",
       "<style scoped>\n",
       "    .dataframe tbody tr th:only-of-type {\n",
       "        vertical-align: middle;\n",
       "    }\n",
       "\n",
       "    .dataframe tbody tr th {\n",
       "        vertical-align: top;\n",
       "    }\n",
       "\n",
       "    .dataframe thead th {\n",
       "        text-align: right;\n",
       "    }\n",
       "</style>\n",
       "<table border=\"1\" class=\"dataframe\">\n",
       "  <thead>\n",
       "    <tr style=\"text-align: right;\">\n",
       "      <th></th>\n",
       "      <th>race_year_id</th>\n",
       "      <th>rank</th>\n",
       "      <th>runner</th>\n",
       "      <th>time</th>\n",
       "      <th>age</th>\n",
       "      <th>gender</th>\n",
       "      <th>nationality</th>\n",
       "      <th>time_in_seconds</th>\n",
       "      <th>event</th>\n",
       "      <th>race</th>\n",
       "      <th>...</th>\n",
       "      <th>country</th>\n",
       "      <th>date</th>\n",
       "      <th>start_time</th>\n",
       "      <th>participation</th>\n",
       "      <th>distance</th>\n",
       "      <th>elevation_gain</th>\n",
       "      <th>elevation_loss</th>\n",
       "      <th>aid_stations</th>\n",
       "      <th>participants</th>\n",
       "      <th>average_speed</th>\n",
       "    </tr>\n",
       "  </thead>\n",
       "  <tbody>\n",
       "    <tr>\n",
       "      <th>0</th>\n",
       "      <td>68140</td>\n",
       "      <td>1.0</td>\n",
       "      <td>VERHEUL Jasper</td>\n",
       "      <td>26H 35M 25S</td>\n",
       "      <td>30</td>\n",
       "      <td>M</td>\n",
       "      <td>GBR</td>\n",
       "      <td>95725.0</td>\n",
       "      <td>Peak District Ultras</td>\n",
       "      <td>Millstone 100</td>\n",
       "      <td>...</td>\n",
       "      <td>United Kingdom</td>\n",
       "      <td>2021-09-03</td>\n",
       "      <td>19:00:00</td>\n",
       "      <td>solo</td>\n",
       "      <td>166.9</td>\n",
       "      <td>4520</td>\n",
       "      <td>-4520</td>\n",
       "      <td>10</td>\n",
       "      <td>150</td>\n",
       "      <td>6.276730</td>\n",
       "    </tr>\n",
       "    <tr>\n",
       "      <th>1</th>\n",
       "      <td>68140</td>\n",
       "      <td>2.0</td>\n",
       "      <td>MOULDING JON</td>\n",
       "      <td>27H 0M 29S</td>\n",
       "      <td>43</td>\n",
       "      <td>M</td>\n",
       "      <td>GBR</td>\n",
       "      <td>97229.0</td>\n",
       "      <td>Peak District Ultras</td>\n",
       "      <td>Millstone 100</td>\n",
       "      <td>...</td>\n",
       "      <td>United Kingdom</td>\n",
       "      <td>2021-09-03</td>\n",
       "      <td>19:00:00</td>\n",
       "      <td>solo</td>\n",
       "      <td>166.9</td>\n",
       "      <td>4520</td>\n",
       "      <td>-4520</td>\n",
       "      <td>10</td>\n",
       "      <td>150</td>\n",
       "      <td>6.179638</td>\n",
       "    </tr>\n",
       "    <tr>\n",
       "      <th>2</th>\n",
       "      <td>68140</td>\n",
       "      <td>3.0</td>\n",
       "      <td>RICHARDSON Phill</td>\n",
       "      <td>28H 49M 7S</td>\n",
       "      <td>38</td>\n",
       "      <td>M</td>\n",
       "      <td>GBR</td>\n",
       "      <td>103747.0</td>\n",
       "      <td>Peak District Ultras</td>\n",
       "      <td>Millstone 100</td>\n",
       "      <td>...</td>\n",
       "      <td>United Kingdom</td>\n",
       "      <td>2021-09-03</td>\n",
       "      <td>19:00:00</td>\n",
       "      <td>solo</td>\n",
       "      <td>166.9</td>\n",
       "      <td>4520</td>\n",
       "      <td>-4520</td>\n",
       "      <td>10</td>\n",
       "      <td>150</td>\n",
       "      <td>5.791396</td>\n",
       "    </tr>\n",
       "    <tr>\n",
       "      <th>3</th>\n",
       "      <td>68140</td>\n",
       "      <td>4.0</td>\n",
       "      <td>DYSON Fiona</td>\n",
       "      <td>30H 53M 37S</td>\n",
       "      <td>55</td>\n",
       "      <td>W</td>\n",
       "      <td>GBR</td>\n",
       "      <td>111217.0</td>\n",
       "      <td>Peak District Ultras</td>\n",
       "      <td>Millstone 100</td>\n",
       "      <td>...</td>\n",
       "      <td>United Kingdom</td>\n",
       "      <td>2021-09-03</td>\n",
       "      <td>19:00:00</td>\n",
       "      <td>solo</td>\n",
       "      <td>166.9</td>\n",
       "      <td>4520</td>\n",
       "      <td>-4520</td>\n",
       "      <td>10</td>\n",
       "      <td>150</td>\n",
       "      <td>5.402412</td>\n",
       "    </tr>\n",
       "    <tr>\n",
       "      <th>4</th>\n",
       "      <td>68140</td>\n",
       "      <td>5.0</td>\n",
       "      <td>FRONTERAS Karen</td>\n",
       "      <td>32H 46M 21S</td>\n",
       "      <td>48</td>\n",
       "      <td>W</td>\n",
       "      <td>GBR</td>\n",
       "      <td>117981.0</td>\n",
       "      <td>Peak District Ultras</td>\n",
       "      <td>Millstone 100</td>\n",
       "      <td>...</td>\n",
       "      <td>United Kingdom</td>\n",
       "      <td>2021-09-03</td>\n",
       "      <td>19:00:00</td>\n",
       "      <td>solo</td>\n",
       "      <td>166.9</td>\n",
       "      <td>4520</td>\n",
       "      <td>-4520</td>\n",
       "      <td>10</td>\n",
       "      <td>150</td>\n",
       "      <td>5.092684</td>\n",
       "    </tr>\n",
       "  </tbody>\n",
       "</table>\n",
       "<p>5 rows × 21 columns</p>\n",
       "</div>"
      ],
      "text/plain": [
       "   race_year_id  rank            runner         time  age gender nationality  \\\n",
       "0         68140   1.0    VERHEUL Jasper  26H 35M 25S   30      M         GBR   \n",
       "1         68140   2.0      MOULDING JON   27H 0M 29S   43      M         GBR   \n",
       "2         68140   3.0  RICHARDSON Phill   28H 49M 7S   38      M         GBR   \n",
       "3         68140   4.0       DYSON Fiona  30H 53M 37S   55      W         GBR   \n",
       "4         68140   5.0   FRONTERAS Karen  32H 46M 21S   48      W         GBR   \n",
       "\n",
       "   time_in_seconds                 event           race  ...         country  \\\n",
       "0          95725.0  Peak District Ultras  Millstone 100  ...  United Kingdom   \n",
       "1          97229.0  Peak District Ultras  Millstone 100  ...  United Kingdom   \n",
       "2         103747.0  Peak District Ultras  Millstone 100  ...  United Kingdom   \n",
       "3         111217.0  Peak District Ultras  Millstone 100  ...  United Kingdom   \n",
       "4         117981.0  Peak District Ultras  Millstone 100  ...  United Kingdom   \n",
       "\n",
       "         date start_time participation distance  elevation_gain  \\\n",
       "0  2021-09-03   19:00:00          solo    166.9            4520   \n",
       "1  2021-09-03   19:00:00          solo    166.9            4520   \n",
       "2  2021-09-03   19:00:00          solo    166.9            4520   \n",
       "3  2021-09-03   19:00:00          solo    166.9            4520   \n",
       "4  2021-09-03   19:00:00          solo    166.9            4520   \n",
       "\n",
       "   elevation_loss  aid_stations  participants  average_speed  \n",
       "0           -4520            10           150       6.276730  \n",
       "1           -4520            10           150       6.179638  \n",
       "2           -4520            10           150       5.791396  \n",
       "3           -4520            10           150       5.402412  \n",
       "4           -4520            10           150       5.092684  \n",
       "\n",
       "[5 rows x 21 columns]"
      ]
     },
     "execution_count": 44,
     "metadata": {},
     "output_type": "execute_result"
    }
   ],
   "source": [
    "#Since we are interested in average speed, we create that column:\n",
    "merged['average_speed'] = merged['distance'] / (merged['time_in_seconds']/3600)\n",
    "merged.head()\n",
    "\n",
    "#Unit for average_speed is km/hour"
   ]
  },
  {
   "cell_type": "code",
   "execution_count": 5,
   "id": "d32db32a",
   "metadata": {},
   "outputs": [
    {
     "data": {
      "text/plain": [
       "<seaborn.axisgrid.FacetGrid at 0x7fdb001dc880>"
      ]
     },
     "execution_count": 5,
     "metadata": {},
     "output_type": "execute_result"
    },
    {
     "data": {
      "image/png": "[encoded data removed]",
      "text/plain": [
       "<Figure size 360x360 with 1 Axes>"
      ]
     },
     "metadata": {
      "needs_background": "light"
     },
     "output_type": "display_data"
    }
   ],
   "source": [
    "# Exploratory Data Analysis - Average Speed vs. Gender\n",
    "\n",
    "# Drop 1st Max Outlier\n",
    "max_speed = merged[\"average_speed\"].max()\n",
    "max_speed_index = merged.index[merged[\"average_speed\"] == max_speed]\n",
    "\n",
    "merged = merged.drop(index = max_speed_index)\n",
    "\n",
    "\n",
    "# Drop 2nd Max Outlier\n",
    "max_speed2 = merged[\"average_speed\"].max()\n",
    "max_speed_index2 = merged.index[merged[\"average_speed\"] == max_speed2]\n",
    "\n",
    "merged = merged.drop(index = max_speed_index2)\n",
    "\n",
    "\n",
    "sns.catplot(x = \"gender\", y = \"average_speed\", kind = \"box\", data = merged, color = \"plum\")"
   ]
  },
  {
   "cell_type": "code",
   "execution_count": 49,
   "id": "5c2590cf",
   "metadata": {},
   "outputs": [
    {
     "data": {
      "text/plain": [
       "<AxesSubplot:xlabel='nationality'>"
      ]
     },
     "execution_count": 49,
     "metadata": {},
     "output_type": "execute_result"
    },
    {
     "data": {
      "image/png": "[encoded data removed]",
      "text/plain": [
       "<Figure size 432x288 with 1 Axes>"
      ]
     },
     "metadata": {
      "needs_background": "light"
     },
     "output_type": "display_data"
    }
   ],
   "source": [
    "# Nationalities with at least 100 top 10 runners\n",
    "top10 = merged[merged[\"rank\"] <= 10]\n",
    "\n",
    "top10_count = top10.groupby(\"nationality\")[\"runner\"].count().sort_values()\n",
    "\n",
    "dftop10_count = pd.DataFrame(top10_count)\n",
    "\n",
    "df = top10_count.to_frame()\n",
    "df_100 = df[df[\"runner\"] >=100]\n",
    "df_100.reset_index().plot(x='nationality', y='runner', kind = \"bar\")"
   ]
  },
  {
   "cell_type": "code",
   "execution_count": 71,
   "id": "6bbeceff",
   "metadata": {},
   "outputs": [
    {
     "data": {
      "text/plain": [
       "<AxesSubplot:xlabel='nationality'>"
      ]
     },
     "execution_count": 71,
     "metadata": {},
     "output_type": "execute_result"
    },
    {
     "data": {
      "image/png": "[encoded data removed]",
      "text/plain": [
       "<Figure size 432x288 with 1 Axes>"
      ]
     },
     "metadata": {
      "needs_background": "light"
     },
     "output_type": "display_data"
    }
   ],
   "source": [
    "# Compare Average Speeds for countries with at least 100 top 10 runners\n",
    "\n",
    "df_100_inner = merged.merge(df_100, on = \"nationality\")\n",
    "\n",
    "df_100_inner_avg_speed = df_100_inner.groupby(\"nationality\")[\"average_speed\"].mean(\"average_speed\").sort_values()\n",
    "df_100_inner_avg_speed = pd.DataFrame(df_100_inner_avg_speed)\n",
    "\n",
    "df_100_inner_avg_speed.reset_index().plot(x='nationality', y='average_speed', kind = \"bar\", color = \"slateblue\")"
   ]
  },
  {
   "cell_type": "code",
   "execution_count": 60,
   "id": "8ee1a087",
   "metadata": {},
   "outputs": [
    {
     "data": {
      "text/plain": [
       "<AxesSubplot:xlabel='nationality'>"
      ]
     },
     "execution_count": 60,
     "metadata": {},
     "output_type": "execute_result"
    },
    {
     "data": {
      "image/png": "[encoded data removed]",
      "text/plain": [
       "<Figure size 432x288 with 1 Axes>"
      ]
     },
     "metadata": {
      "needs_background": "light"
     },
     "output_type": "display_data"
    }
   ],
   "source": [
    "# Male and Female Composition for Countries with at least 100 top 10 runners\n",
    "df_100_inner.groupby(['nationality', 'gender']).size().unstack().plot(kind='bar', stacked=True)"
   ]
  },
  {
   "cell_type": "code",
   "execution_count": 74,
   "id": "a43db6ed",
   "metadata": {},
   "outputs": [
    {
     "data": {
      "text/plain": [
       "<seaborn.axisgrid.FacetGrid at 0x7fdad4a6a5b0>"
      ]
     },
     "execution_count": 74,
     "metadata": {},
     "output_type": "execute_result"
    },
    {
     "data": {
      "image/png": "[encoded data removed]",
      "text/plain": [
       "<Figure size 360x360 with 1 Axes>"
      ]
     },
     "metadata": {
      "needs_background": "light"
     },
     "output_type": "display_data"
    }
   ],
   "source": [
    "# Distribution of Age\n",
    "\n",
    "sns.displot(data = merged, bins = 30, x = \"age\", color = \"plum\")"
   ]
  },
  {
   "cell_type": "code",
   "execution_count": 86,
   "id": "4447a09d",
   "metadata": {},
   "outputs": [
    {
     "data": {
      "text/plain": [
       "<AxesSubplot:xlabel='age', ylabel='average_speed'>"
      ]
     },
     "execution_count": 86,
     "metadata": {},
     "output_type": "execute_result"
    },
    {
     "data": {
      "image/png": "[encoded data removed]",
      "text/plain": [
       "<Figure size 432x288 with 1 Axes>"
      ]
     },
     "metadata": {
      "needs_background": "light"
     },
     "output_type": "display_data"
    }
   ],
   "source": [
    "# Relationship between average_speed and age\n",
    "\n",
    "age_avg_speed = merged.groupby(\"age\")[\"average_speed\"].mean(\"average_speed\")\n",
    "age_avg_speed\n",
    "\n",
    "age_avg_speed_df = pd.DataFrame(age_avg_speed)\n",
    "age_avg_speed_df\n",
    "\n",
    "# age_avg_speed_df.reset_index().plot(x='age', y='average_speed', kind = \"scatter\")\n",
    "sns.regplot(x=age_avg_speed_df.index, y=\"average_speed\", data=age_avg_speed_df)\n",
    "# sns.relplot(data = merged, x = \"age\", y = \"average_speed\")"
   ]
  },
  {
   "cell_type": "code",
   "execution_count": 8,
   "id": "7d88f7e3",
   "metadata": {},
   "outputs": [
    {
     "data": {
      "text/plain": [
       "gender\n",
       "M    4.884041\n",
       "W    4.884091\n",
       "Name: average_speed, dtype: float64"
      ]
     },
     "execution_count": 8,
     "metadata": {},
     "output_type": "execute_result"
    }
   ],
   "source": [
    "#We can start by computing the average of average_speed for male & female \n",
    "#contestants \n",
    "merged.groupby(['gender']).mean('average_speed')['average_speed']\n",
    "\n",
    "#Notice the result is very close, but again we do have lots of entries for\n",
    "#both gender. We can do a hypothesis test to figure out if such tiny diffe\n",
    "#erence is significant by performing a bootstrap sampling:"
   ]
  },
  {
   "cell_type": "code",
   "execution_count": 9,
   "id": "345ff494",
   "metadata": {},
   "outputs": [
    {
     "name": "stdout",
     "output_type": "stream",
     "text": [
      "4.872855466287007 4.894846757373088\n",
      "4.856784061773895 4.9085496274498714\n"
     ]
    }
   ],
   "source": [
    "#first grab the average speed for male and female runners across all races\n",
    "male = merged[merged['gender'] == 'M']\n",
    "female = merged[merged['gender'] == 'W']\n",
    "male_speed = male['average_speed'].dropna()\n",
    "female_speed = female['average_speed'].dropna()\n",
    "\n",
    "#perform bootstrapping: repeat 500 times\n",
    "import numpy as np\n",
    "reps = 500\n",
    "male_bootstrap = np.random.choice(male_speed, size=(reps,len(male_speed)),replace = True)\n",
    "female_bootstrap = np.random.choice(female_speed, size=(reps,len(female_speed)),replace = True)\n",
    "\n",
    "#Then compute the mean for each bootstrap sample\n",
    "male_boot_mean = male_bootstrap.mean(axis=1)\n",
    "female_boot_mean = female_bootstrap.mean(axis=1)\n",
    "\n",
    "#Confidence interval for average of average speed for male & female runners\n",
    "male_ci_lower = np.percentile(male_boot_mean, 2.5)\n",
    "male_ci_higher = np.percentile(male_boot_mean, 97.5)\n",
    "female_ci_lower = np.percentile(female_boot_mean, 2.5)\n",
    "female_ci_higher = np.percentile(female_boot_mean, 97.5)\n",
    "\n",
    "print(male_ci_lower,male_ci_higher)\n",
    "print(female_ci_lower,female_ci_higher)"
   ]
  },
  {
   "cell_type": "markdown",
   "id": "f68494e5",
   "metadata": {},
   "source": [
    "Conclusion: Since the two confidence intervals actually overlap, so we conclude that the average speed for male and female runners are not significantly different"
   ]
  },
  {
   "cell_type": "code",
   "execution_count": null,
   "id": "e92f89e2",
   "metadata": {},
   "outputs": [],
   "source": []
  }
 ],
 "metadata": {
  "kernelspec": {
   "display_name": "Python 3 (ipykernel)",
   "language": "python",
   "name": "python3"
  },
  "language_info": {
   "codemirror_mode": {
    "name": "ipython",
    "version": 3
   },
   "file_extension": ".py",
   "mimetype": "text/x-python",
   "name": "python",
   "nbconvert_exporter": "python",
   "pygments_lexer": "ipython3",
   "version": "3.9.12"
  }
 },
 "nbformat": 4,
 "nbformat_minor": 5
}
